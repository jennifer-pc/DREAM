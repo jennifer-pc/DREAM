{
 "cells": [
  {
   "cell_type": "code",
   "execution_count": 1,
   "metadata": {},
   "outputs": [],
   "source": [
    " # This is a code cell\n",
    "import numpy as np\n",
    "\n",
    "from matplotlib.pyplot import Axes, tight_layout, subplots_adjust, suptitle, plot, subplot, axes, minorticks_on, xlabel, ylabel, legend, title, rc, figure, axvline, axhline, axvline, annotate, text, annotate, xticks \n",
    "\n",
    "\n",
    "import matplotlib.pyplot as plt\n",
    "\n",
    "from scipy.integrate import quad, nquad\n",
    "from scipy import integrate\n",
    "\n",
    "\n",
    "from matplotlib import pyplot as plt \n",
    "\n",
    "\n",
    "from scipy.fft import fft, fftfreq\n",
    "\n",
    "from mpl_toolkits import mplot3d\n",
    "from scipy import fft\n",
    "from scipy.special import kn\n",
    "\n",
    "import sympy as sy\n"
   ]
  },
  {
   "cell_type": "code",
   "execution_count": 2,
   "metadata": {},
   "outputs": [],
   "source": [
    "N=100\n",
    "\n",
    "w0=1.32*10**14\n",
    "wa=0.8*w0\n",
    "wc=1.75*10**14\n",
    "gamma0=4.28*10**13\n",
    "\n",
    "\n",
    "#Normalization\n",
    "\n",
    "w0_n=1.32*10**14/wa\n",
    "wc_n=wc/wa\n",
    "gamma0_n=gamma0/wa\n",
    "\n",
    "wa_n=1\n",
    "\n",
    "\n",
    "Omega=0.001 #units of wa\n",
    "\n",
    "alpha_n=0.1 #units of wa\n",
    "\n",
    "\n",
    "ome=np.linspace(100,1000,N)\n",
    "\n",
    "time_n=np.linspace(0,500,N) #units of twa\n",
    "time2_n=np.linspace(0,500,N) #units of twa\n",
    "\n",
    "time=np.linspace(0,500,N) #units of twa\n",
    "time2=np.linspace(0,500,N) #units of twa\n",
    "\n",
    "\n",
    "ome=np.linspace(100,120,N)\n",
    "time=np.linspace(500,525,N)\n",
    "time2=np.linspace(500,525,N)\n",
    "\n",
    "\n",
    "#wa=wa/wa\n",
    "#gamma0=2"
   ]
  },
  {
   "cell_type": "code",
   "execution_count": 3,
   "metadata": {},
   "outputs": [
    {
     "name": "stdout",
     "output_type": "stream",
     "text": [
      "1.25\n",
      "1.6571969696969697\n",
      "1\n",
      "0.4053030303030303\n"
     ]
    }
   ],
   "source": [
    "print(w0_n)\n",
    "print(wc_n)\n",
    "print(wa_n)\n",
    "print(gamma0_n)"
   ]
  },
  {
   "cell_type": "code",
   "execution_count": 4,
   "metadata": {},
   "outputs": [],
   "source": [
    "def gamma(time,gamma0, alpha):\n",
    "    return gamma0*(2+np.sin(time*alpha))/2\n",
    "    \n",
    "\n",
    "def numerator(omega, time2,time,wa,wc,gamma0,alpha):\n",
    "    return np.exp(1j*(omega-1)*(time-time2))*omega**4*wc**2*np.sqrt(gamma(time,gamma0,alpha))*np.sqrt(gamma(time2,gamma0,alpha))\n",
    "\n",
    "def numerator_sin_exp(omega, time2,time,wa,wc,gamma0,alpha):\n",
    "    return omega**4*wc**2*np.sqrt(gamma(time,gamma0,alpha))*np.sqrt(gamma(time2,gamma0,alpha))\n",
    "\n",
    "def sum_1(omega,w0,time, gamma0,alpha,wc):\n",
    "    return np.sqrt((omega**2-w0**2)**2+gamma(time,gamma0,alpha)**2*omega**2+wc**2*(omega**2-w0**2+1j*gamma(time,gamma0,alpha)*omega))\n",
    "\n",
    "def sum_2(omega,w0,time,gamma0, alpha):\n",
    "    return np.sqrt((omega**2-w0**2)**2+gamma(time,gamma0,alpha)**2*omega**2)\n",
    "\n",
    "def integrand(omega,time2,time,wa,wc,gamma0,alpha,w0):\n",
    "    return numerator(omega,time2,time,wa,wc,gamma0,alpha)/(sum_1(omega,w0,time,gamma0,alpha,wc)*sum_2(omega,w0,time2,gamma0,alpha)+sum_1(omega,w0,time2,gamma0,alpha,wc)*sum_2(omega,w0,time,gamma0,alpha))\n",
    "\n",
    "def integrand_sin_exp(omega,time2,time,wa,wc,gamma0,alpha,w0):\n",
    "    return numerator_sin_exp(omega,time2,time,wa,wc,gamma0,alpha)/(sum_1(omega,w0,time,gamma0,alpha,wc)*sum_2(omega,w0,time2,gamma0,alpha)+sum_1(omega,w0,time2,gamma0,alpha,wc)*sum_2(omega,w0,time,gamma0,alpha))"
   ]
  },
  {
   "cell_type": "code",
   "execution_count": 6,
   "metadata": {
    "scrolled": true
   },
   "outputs": [
    {
     "name": "stderr",
     "output_type": "stream",
     "text": [
      "C:\\ProgramData\\Anaconda3\\lib\\site-packages\\scipy\\integrate\\quadpack.py:465: ComplexWarning: Casting complex values to real discards the imaginary part\n",
      "  return _quadpack._qagie(func,bound,infbounds,args,full_output,epsabs,epsrel,limit)\n",
      "C:\\ProgramData\\Anaconda3\\lib\\site-packages\\scipy\\integrate\\quadpack.py:880: IntegrationWarning: The integral is probably divergent, or slowly convergent.\n",
      "  quad_r = quad(f, low, high, args=args, full_output=self.full_output,\n"
     ]
    },
    {
     "name": "stdout",
     "output_type": "stream",
     "text": [
      "0\n"
     ]
    },
    {
     "name": "stderr",
     "output_type": "stream",
     "text": [
      "C:\\ProgramData\\Anaconda3\\lib\\site-packages\\scipy\\integrate\\quadpack.py:880: IntegrationWarning: The maximum number of subdivisions (50) has been achieved.\n",
      "  If increasing the limit yields no improvement it is advised to analyze \n",
      "  the integrand in order to determine the difficulties.  If the position of a \n",
      "  local difficulty can be determined (singularity, discontinuity) one will \n",
      "  probably gain from splitting up the interval and calling the integrator \n",
      "  on the subranges.  Perhaps a special-purpose integrator should be used.\n",
      "  quad_r = quad(f, low, high, args=args, full_output=self.full_output,\n",
      "C:\\ProgramData\\Anaconda3\\lib\\site-packages\\scipy\\integrate\\quadpack.py:880: IntegrationWarning: The algorithm does not converge.  Roundoff error is detected\n",
      "  in the extrapolation table.  It is assumed that the requested tolerance\n",
      "  cannot be achieved, and that the returned result (if full_output = 1) is \n",
      "  the best which can be obtained.\n",
      "  quad_r = quad(f, low, high, args=args, full_output=self.full_output,\n"
     ]
    },
    {
     "name": "stdout",
     "output_type": "stream",
     "text": [
      "1\n",
      "2\n",
      "3\n",
      "4\n",
      "5\n",
      "6\n",
      "7\n",
      "8\n",
      "9\n",
      "10\n",
      "11\n",
      "12\n",
      "13\n",
      "14\n",
      "15\n",
      "16\n",
      "17\n",
      "18\n",
      "19\n",
      "20\n",
      "21\n",
      "22\n",
      "23\n",
      "24\n",
      "25\n",
      "26\n",
      "27\n",
      "28\n",
      "29\n",
      "30\n",
      "31\n",
      "32\n",
      "33\n",
      "34\n",
      "35\n",
      "36\n",
      "37\n",
      "38\n",
      "39\n",
      "40\n",
      "41\n",
      "42\n",
      "43\n",
      "44\n",
      "45\n",
      "46\n",
      "47\n",
      "48\n",
      "49\n",
      "50\n",
      "51\n",
      "52\n",
      "53\n",
      "54\n",
      "55\n",
      "56\n",
      "57\n",
      "58\n",
      "59\n",
      "60\n",
      "61\n",
      "62\n",
      "63\n",
      "64\n",
      "65\n",
      "66\n",
      "67\n",
      "68\n",
      "69\n",
      "70\n",
      "71\n",
      "72\n",
      "73\n",
      "74\n",
      "75\n",
      "76\n",
      "77\n",
      "78\n",
      "79\n",
      "80\n",
      "81\n",
      "82\n",
      "83\n",
      "84\n",
      "85\n",
      "86\n",
      "87\n",
      "88\n",
      "89\n",
      "90\n",
      "91\n",
      "92\n",
      "93\n",
      "94\n",
      "95\n",
      "96\n",
      "97\n",
      "98\n",
      "99\n"
     ]
    },
    {
     "data": {
      "image/png": "[encoded data removed]",
      "text/plain": [
       "<Figure size 432x288 with 1 Axes>"
      ]
     },
     "metadata": {
      "needs_background": "light"
     },
     "output_type": "display_data"
    },
    {
     "data": {
      "image/png": "[encoded data removed]",
      "text/plain": [
       "<Figure size 432x288 with 1 Axes>"
      ]
     },
     "metadata": {
      "needs_background": "light"
     },
     "output_type": "display_data"
    },
    {
     "data": {
      "image/png": "[encoded data removed]",
      "text/plain": [
       "<Figure size 432x288 with 1 Axes>"
      ]
     },
     "metadata": {
      "needs_background": "light"
     },
     "output_type": "display_data"
    },
    {
     "data": {
      "image/png": "[encoded data removed]",
      "text/plain": [
       "<Figure size 432x288 with 1 Axes>"
      ]
     },
     "metadata": {
      "needs_background": "light"
     },
     "output_type": "display_data"
    },
    {
     "data": {
      "image/png": "[encoded data removed]",
      "text/plain": [
       "<Figure size 432x288 with 1 Axes>"
      ]
     },
     "metadata": {
      "needs_background": "light"
     },
     "output_type": "display_data"
    },
    {
     "data": {
      "image/png": "[encoded data removed]",
      "text/plain": [
       "<Figure size 432x288 with 1 Axes>"
      ]
     },
     "metadata": {
      "needs_background": "light"
     },
     "output_type": "display_data"
    },
    {
     "data": {
      "image/png": "[encoded data removed]",
      "text/plain": [
       "<Figure size 432x288 with 1 Axes>"
      ]
     },
     "metadata": {
      "needs_background": "light"
     },
     "output_type": "display_data"
    }
   ],
   "source": [
    "# t' from 0 to t\n",
    "\n",
    "alpha=0.0\n",
    "alpha2=0.02\n",
    "alpha3=0.008\n",
    "alpha4=0.2\n",
    "\n",
    "alpha5=1*10**1\n",
    "alpha6=10**2\n",
    "alpha7=10**3\n",
    "\n",
    "# N=100, time=100/100, Omega=0.00, Omega2=0.02 , Omega3=0.008, Omega4=0.2, Omega5=10**1,Omega6=10**2,Omega7=10**3,\n",
    "testOm_2_1=np.zeros(N)\n",
    "testOm_2_2=np.zeros(N)\n",
    "testOm_2_3=np.zeros(N)\n",
    "testOm_2_4=np.zeros(N)\n",
    "\n",
    "\n",
    "testOm_2_5=np.zeros(N)\n",
    "testOm_2_6=np.zeros(N)\n",
    "testOm_2_7=np.zeros(N)\n",
    "\n",
    "for i in range(len(time_n)):\n",
    "    testOm_2_1[i],err=nquad(integrand,[[0,np.inf],[0,time_n[i]]],args=(time_n[i],wa_n,wc_n,gamma0_n,alpha_n,w0_n))\n",
    "    testOm_2_2[i],err=nquad(integrand,[[0,np.inf],[0,time_n[i]]],args=(time_n[i],wa_n,wc_n,gamma0_n,alpha2,w0_n))\n",
    "    testOm_2_3[i],err=nquad(integrand,[[0,np.inf],[0,time_n[i]]],args=(time_n[i],wa_n,wc_n,gamma0_n,alpha3,w0_n))\n",
    "    testOm_2_4[i],err=nquad(integrand,[[0,np.inf],[0,time_n[i]]],args=(time_n[i],wa_n,wc_n,gamma0_n,alpha4,w0_n))\n",
    "    \n",
    "    testOm_2_5[i],err=nquad(integrand,[[0,np.inf],[0,time_n[i]]],args=(time_n[i],wa_n,wc_n,gamma0_n,alpha5,w0_n))\n",
    "    testOm_2_6[i],err=nquad(integrand,[[0,np.inf],[0,time_n[i]]],args=(time_n[i],wa_n,wc_n,gamma0_n,alpha6,w0_n))\n",
    "    testOm_2_7[i],err=nquad(integrand,[[0,np.inf],[0,time_n[i]]],args=(time_n[i],wa_n,wc_n,gamma0_n,alpha7,w0_n))\n",
    "    print(i)\n",
    "    \n",
    "\n",
    "plt.plot(time_n,testOm_2_1,'*')\n",
    "plt.ylabel('Gamma(t)')\n",
    "plt.xlabel('t*wa')\n",
    "plt.title('Emission Rate')\n",
    "plt.show()\n",
    "\n",
    "plt.plot(time_n,testOm_2_2,'*')\n",
    "plt.ylabel('Gamma(t)')\n",
    "plt.xlabel('t*wa')\n",
    "plt.title('Emission Rate')\n",
    "plt.show()\n",
    "\n",
    "plt.plot(time_n,testOm_2_3,'*')\n",
    "plt.ylabel('Gamma(t)')\n",
    "plt.xlabel('t*wa')\n",
    "plt.title('Emission Rate')\n",
    "plt.show()\n",
    "\n",
    "plt.plot(time_n,testOm_2_4,'*')\n",
    "plt.ylabel('Gamma(t)')\n",
    "plt.xlabel('t*wa')\n",
    "plt.title('Emission Rate')\n",
    "plt.show()\n",
    "\n",
    "plt.plot(time_n,testOm_2_5,'*')\n",
    "plt.ylabel('Gamma(t)')\n",
    "plt.xlabel('t*wa')\n",
    "plt.title('Emission Rate')\n",
    "plt.show()\n",
    "\n",
    "plt.plot(time_n,testOm_2_6,'*')\n",
    "plt.ylabel('Gamma(t)')\n",
    "plt.xlabel('t*wa')\n",
    "plt.title('Emission Rate')\n",
    "plt.show()\n",
    "\n",
    "plt.plot(time_n,testOm_2_7,'*')\n",
    "plt.ylabel('Gamma(t)')\n",
    "plt.xlabel('t*wa')\n",
    "plt.title('Emission Rate')\n",
    "plt.show()"
   ]
  },
  {
   "cell_type": "code",
   "execution_count": null,
   "metadata": {},
   "outputs": [],
   "source": []
  }
 ],
 "metadata": {
  "kernelspec": {
   "display_name": "Python 3",
   "language": "python",
   "name": "python3"
  },
  "language_info": {
   "codemirror_mode": {
    "name": "ipython",
    "version": 3
   },
   "file_extension": ".py",
   "mimetype": "text/x-python",
   "name": "python",
   "nbconvert_exporter": "python",
   "pygments_lexer": "ipython3",
   "version": "3.8.5"
  }
 },
 "nbformat": 4,
 "nbformat_minor": 4
}
