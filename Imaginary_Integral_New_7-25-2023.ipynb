{
 "cells": [
  {
   "cell_type": "code",
   "execution_count": 1,
   "metadata": {},
   "outputs": [],
   "source": [
    " # This is a code cell\n",
    "import numpy as np\n",
    "\n",
    "from matplotlib.pyplot import Axes, tight_layout, subplots_adjust, suptitle, plot, subplot, axes, minorticks_on, xlabel, ylabel, legend, title, rc, figure, axvline, axhline, axvline, annotate, text, annotate, xticks \n",
    "\n",
    "\n",
    "import matplotlib.pyplot as plt\n",
    "\n",
    "from scipy.integrate import quad, nquad\n",
    "from scipy import integrate\n",
    "\n",
    "\n",
    "from matplotlib import pyplot as plt \n",
    "\n",
    "\n",
    "from scipy.fft import fft, fftfreq\n",
    "\n",
    "from mpl_toolkits import mplot3d\n",
    "from scipy import fft\n",
    "from scipy.special import kn\n",
    "\n",
    "import sympy as sy\n"
   ]
  },
  {
   "cell_type": "code",
   "execution_count": 29,
   "metadata": {},
   "outputs": [],
   "source": [
    "N=50\n",
    "\n",
    "w0=1.32*10**14\n",
    "wa=0.8*w0\n",
    "wc=1.75*10**14\n",
    "gamma0=4.28*10**13\n",
    "\n",
    "\n",
    "#Normalization\n",
    "\n",
    "w0_n=1.32*10**14/wa\n",
    "wc_n=wc/wa\n",
    "gamma0_n=gamma0/wa\n",
    "\n",
    "wa_n=1\n",
    "\n",
    "\n",
    "Omega=0.001 #units of wa\n",
    "\n",
    "alpha_n=1 #units of wa\n",
    "\n",
    "\n",
    "ome=np.linspace(100,1000,N)\n",
    "\n",
    "time_n=np.linspace(500,505,N) #units of twa\n",
    "time2_n=np.linspace(500,505,N) #units of twa\n",
    "\n",
    "\n",
    "\n",
    "\n",
    "#wa=wa/wa\n",
    "#gamma0=2"
   ]
  },
  {
   "cell_type": "code",
   "execution_count": 10,
   "metadata": {},
   "outputs": [],
   "source": [
    "def gamma(time,gamma0, alpha):\n",
    "    return gamma0*(2+np.sin(time*alpha))\n",
    "\n",
    "def numerator(xi,time2,time,wa,wc,gamma0,alpha):\n",
    "    return np.exp(-xi*(time-time2))*np.exp(-1j*wa*(time-time2))*xi**4*wc**2*np.sqrt(gamma(time,gamma0,alpha))*np.sqrt(gamma(time2,gamma0,alpha))\n",
    "    \n",
    "def deno1(xi,time2,time, w0,wc,gamma0,alpha):\n",
    "    return np.sqrt(((xi**2+w0**2)**2-gamma(time,gamma0,alpha)**2*xi**2-wc**2*(xi**2+w0**2+gamma(time,gamma0,alpha)*xi))*((xi**2+w0**2)**2-gamma(time2,gamma0,alpha)**2*xi**2))\n",
    "\n",
    "def deno2(xi,time2,time,w0,wc,gamma0,alpha):\n",
    "    return np.sqrt(((xi**2+w0**2)**2-gamma(time2,gamma0,alpha)**2*xi**2-wc**2*(xi**2+w0**2-gamma(time2,gamma0,alpha)*xi))*((xi**2+w0**2)**2-gamma(time,gamma0,alpha)**2*xi**2))\n",
    "\n",
    "def integrand(omega,time2,time,gamma0,alpha,w0,wc,wa):\n",
    "    return numerator(omega,time2,time,wa,wc,gamma0,alpha)/(deno1(omega,time2,time,gamma0,alpha,w0,wc)+deno2(omega, time2,time,gamma0,alpha,w0,wc))"
   ]
  },
  {
   "cell_type": "code",
   "execution_count": 27,
   "metadata": {},
   "outputs": [
    {
     "name": "stderr",
     "output_type": "stream",
     "text": [
      "<ipython-input-10-eb5c599eed59>:8: RuntimeWarning: invalid value encountered in sqrt\n",
      "  return np.sqrt(((xi**2+w0**2)**2-gamma(time,gamma0,alpha)**2*xi**2-wc**2*(xi**2+w0**2-gamma(time,gamma0,alpha)*xi))*((xi**2+w0**2)**2-gamma(time2,gamma0,alpha)**2*xi**2))\n",
      "<ipython-input-10-eb5c599eed59>:14: RuntimeWarning: invalid value encountered in cdouble_scalars\n",
      "  return numerator(omega,time2,time,wa,wc,gamma0,alpha)/(deno1(omega,time2,time,gamma0,alpha,w0,wc)+deno2(omega, time2,time,gamma0,alpha,w0,wc))\n",
      "<ipython-input-10-eb5c599eed59>:11: RuntimeWarning: invalid value encountered in sqrt\n",
      "  return np.sqrt(((xi**2+w0**2)**2-gamma(time2,gamma0,alpha)**2*xi**2-wc**2*(xi**2+w0**2+gamma(time2,gamma0,alpha)*xi))*((xi**2+w0**2)**2-gamma(time,gamma0,alpha)**2*xi**2))\n"
     ]
    },
    {
     "data": {
      "image/png": "[encoded data removed]",
      "text/plain": [
       "<Figure size 432x288 with 1 Axes>"
      ]
     },
     "metadata": {
      "needs_background": "light"
     },
     "output_type": "display_data"
    }
   ],
   "source": [
    "integ=np.zeros(N)\n",
    "\n",
    "for i in range(len(ome)):\n",
    "    #print(i)\n",
    "    integ[i]=np.real(integrand(ome[i], time2_n[94],time_n[100],gamma0_n,alpha_n,w0_n,wc_n,wa_n))\n",
    "\n",
    "    \n",
    "plt.plot(ome,integ)\n",
    "plt.ylabel('Integrand')\n",
    "plt.xlabel('$\\omega$')\n",
    "plt.title('Emission Rate')\n",
    "plt.show()\n"
   ]
  },
  {
   "cell_type": "code",
   "execution_count": 22,
   "metadata": {},
   "outputs": [
    {
     "name": "stdout",
     "output_type": "stream",
     "text": [
      "1.25\n",
      "1.6571969696969697\n",
      "1\n",
      "0.4053030303030303\n"
     ]
    }
   ],
   "source": [
    "print(w0_n)\n",
    "print(wc_n)\n",
    "print(wa_n)\n",
    "print(gamma0_n)"
   ]
  },
  {
   "cell_type": "code",
   "execution_count": 30,
   "metadata": {},
   "outputs": [
    {
     "name": "stderr",
     "output_type": "stream",
     "text": [
      "<ipython-input-10-eb5c599eed59>:8: RuntimeWarning: invalid value encountered in sqrt\n",
      "  return np.sqrt(((xi**2+w0**2)**2-gamma(time,gamma0,alpha)**2*xi**2-wc**2*(xi**2+w0**2-gamma(time,gamma0,alpha)*xi))*((xi**2+w0**2)**2-gamma(time2,gamma0,alpha)**2*xi**2))\n",
      "<ipython-input-10-eb5c599eed59>:11: RuntimeWarning: invalid value encountered in sqrt\n",
      "  return np.sqrt(((xi**2+w0**2)**2-gamma(time2,gamma0,alpha)**2*xi**2-wc**2*(xi**2+w0**2+gamma(time2,gamma0,alpha)*xi))*((xi**2+w0**2)**2-gamma(time,gamma0,alpha)**2*xi**2))\n",
      "<ipython-input-10-eb5c599eed59>:14: RuntimeWarning: invalid value encountered in cdouble_scalars\n",
      "  return numerator(omega,time2,time,wa,wc,gamma0,alpha)/(deno1(omega,time2,time,gamma0,alpha,w0,wc)+deno2(omega, time2,time,gamma0,alpha,w0,wc))\n"
     ]
    },
    {
     "name": "stdout",
     "output_type": "stream",
     "text": [
      "0\n",
      "1\n",
      "2\n",
      "3\n",
      "4\n",
      "5\n",
      "6\n",
      "7\n",
      "8\n",
      "9\n",
      "10\n",
      "11\n",
      "12\n",
      "13\n",
      "14\n",
      "15\n",
      "16\n",
      "17\n",
      "18\n",
      "19\n",
      "20\n",
      "21\n",
      "22\n",
      "23\n",
      "24\n",
      "25\n",
      "26\n",
      "27\n",
      "28\n",
      "29\n",
      "30\n",
      "31\n",
      "32\n",
      "33\n",
      "34\n",
      "35\n",
      "36\n",
      "37\n",
      "38\n",
      "39\n",
      "40\n",
      "41\n",
      "42\n",
      "43\n",
      "44\n",
      "45\n",
      "46\n",
      "47\n",
      "48\n",
      "49\n"
     ]
    },
    {
     "ename": "IndexError",
     "evalue": "index 50 is out of bounds for axis 0 with size 50",
     "output_type": "error",
     "traceback": [
      "\u001b[1;31m---------------------------------------------------------------------------\u001b[0m",
      "\u001b[1;31mIndexError\u001b[0m                                Traceback (most recent call last)",
      "\u001b[1;32m<ipython-input-30-4895a1fea819>\u001b[0m in \u001b[0;36m<module>\u001b[1;34m\u001b[0m\n\u001b[0;32m      2\u001b[0m \u001b[1;33m\u001b[0m\u001b[0m\n\u001b[0;32m      3\u001b[0m \u001b[1;32mfor\u001b[0m \u001b[0mi\u001b[0m \u001b[1;32min\u001b[0m \u001b[0mrange\u001b[0m\u001b[1;33m(\u001b[0m\u001b[0mlen\u001b[0m\u001b[1;33m(\u001b[0m\u001b[0mtime\u001b[0m\u001b[1;33m)\u001b[0m\u001b[1;33m)\u001b[0m\u001b[1;33m:\u001b[0m\u001b[1;33m\u001b[0m\u001b[1;33m\u001b[0m\u001b[0m\n\u001b[1;32m----> 4\u001b[1;33m     \u001b[0mtest\u001b[0m\u001b[1;33m,\u001b[0m\u001b[0merr\u001b[0m\u001b[1;33m=\u001b[0m\u001b[0mnquad\u001b[0m\u001b[1;33m(\u001b[0m\u001b[0mintegrand\u001b[0m\u001b[1;33m,\u001b[0m\u001b[1;33m[\u001b[0m\u001b[1;33m[\u001b[0m\u001b[1;36m0\u001b[0m\u001b[1;33m,\u001b[0m\u001b[0mnp\u001b[0m\u001b[1;33m.\u001b[0m\u001b[0minf\u001b[0m\u001b[1;33m]\u001b[0m\u001b[1;33m,\u001b[0m\u001b[1;33m[\u001b[0m\u001b[1;36m0\u001b[0m\u001b[1;33m,\u001b[0m\u001b[0mtime\u001b[0m\u001b[1;33m[\u001b[0m\u001b[0mi\u001b[0m\u001b[1;33m]\u001b[0m\u001b[1;33m]\u001b[0m\u001b[1;33m]\u001b[0m\u001b[1;33m,\u001b[0m\u001b[0margs\u001b[0m\u001b[1;33m=\u001b[0m\u001b[1;33m(\u001b[0m\u001b[0mtime_n\u001b[0m\u001b[1;33m[\u001b[0m\u001b[0mi\u001b[0m\u001b[1;33m]\u001b[0m\u001b[1;33m,\u001b[0m\u001b[0mgamma0_n\u001b[0m\u001b[1;33m,\u001b[0m\u001b[0malpha_n\u001b[0m\u001b[1;33m,\u001b[0m\u001b[0mw0_n\u001b[0m\u001b[1;33m,\u001b[0m\u001b[0mwc_n\u001b[0m\u001b[1;33m,\u001b[0m\u001b[0mwa_n\u001b[0m\u001b[1;33m)\u001b[0m\u001b[1;33m)\u001b[0m\u001b[1;33m\u001b[0m\u001b[1;33m\u001b[0m\u001b[0m\n\u001b[0m\u001b[0;32m      5\u001b[0m     \u001b[0mprint\u001b[0m\u001b[1;33m(\u001b[0m\u001b[0mi\u001b[0m\u001b[1;33m)\u001b[0m\u001b[1;33m\u001b[0m\u001b[1;33m\u001b[0m\u001b[0m\n\u001b[0;32m      6\u001b[0m     \u001b[0mInt_final_2\u001b[0m\u001b[1;33m.\u001b[0m\u001b[0mappend\u001b[0m\u001b[1;33m(\u001b[0m\u001b[0mtest\u001b[0m\u001b[1;33m)\u001b[0m\u001b[1;33m\u001b[0m\u001b[1;33m\u001b[0m\u001b[0m\n",
      "\u001b[1;31mIndexError\u001b[0m: index 50 is out of bounds for axis 0 with size 50"
     ]
    }
   ],
   "source": [
    "Int_final_2=[]\n",
    "\n",
    "for i in range(len(time_n)):\n",
    "    test,err=nquad(integrand,[[0,np.inf],[0,time_n[i]]],args=(time_n[i],gamma0_n,alpha_n,w0_n,wc_n,wa_n))\n",
    "    print(i)\n",
    "    Int_final_2.append(test)\n",
    "    \n",
    "#50 ptos -- Integration from  0 to \\infty in  t with time variation\n",
    "plt.plot(time_n,Int_final_2)\n",
    "plt.ylabel('Beta(t)')\n",
    "plt.xlabel('t*wa')\n",
    "plt.title('Emission Rate')\n",
    "plt.show()"
   ]
  },
  {
   "cell_type": "code",
   "execution_count": null,
   "metadata": {},
   "outputs": [],
   "source": []
  }
 ],
 "metadata": {
  "kernelspec": {
   "display_name": "Python 3",
   "language": "python",
   "name": "python3"
  },
  "language_info": {
   "codemirror_mode": {
    "name": "ipython",
    "version": 3
   },
   "file_extension": ".py",
   "mimetype": "text/x-python",
   "name": "python",
   "nbconvert_exporter": "python",
   "pygments_lexer": "ipython3",
   "version": "3.8.5"
  }
 },
 "nbformat": 4,
 "nbformat_minor": 4
}
